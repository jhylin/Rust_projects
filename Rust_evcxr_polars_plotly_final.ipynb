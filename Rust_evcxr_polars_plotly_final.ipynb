{
 "cells": [
  {
   "cell_type": "raw",
   "metadata": {},
   "source": [
    "---\n",
    "title: Pills dataset - Part 3\n",
    "subtitle: Using Rust for data visualisation\n",
    "author: Jennifer HY Lin\n",
    "date: 2023-2-14\n",
    "draft: false\n",
    "keep-ipynb: true\n",
    "categories:\n",
    "  - Data analytics projects\n",
    "  - Rust\n",
    "  - Polars\n",
    "  - Plotly\n",
    "  - Evcxr\n",
    "  - Jupyter\n",
    "---"
   ]
  },
  {
   "cell_type": "markdown",
   "metadata": {},
   "source": [
    "##### **Background**\n",
    "\n",
    "The aim of this final part (part 3) for the pills dataset was really for me to start using Rust in a beginner-friendly way. Overall, this trilogy (parts 1 - 3) for the pills dataset formulated an overview of how to use Polars in Python (mainly), Pandas in Python (smaller section) and Polars in Rust (even little less as this was new to me) with Plotly. Over time, I've been finding myself learning more optimally by doing and applying, rather than just reading and thinking, so I've got myself started in this very new programming language, Rust, to get some familiarities. I anticipated that I would still work with Python and R mainly in the near future, so that I'm not diverting too much and would be at least proficient in at least one programming language.\n",
    "\n",
    "My very initial idea was to integrate Rust-Polars, Plotly in Rust (Plotly.rs) and Jupyter-Evcxr together, and see if I could get a simple data visualisation out of a small dataset. Although the idea sounded simple enough, I was actually quite stuck at the step of importing one of the columns as x-axis variables in Rust-Polars to Plotly.rs. I figured it might possibly be due to my very lack-of-knowledge and lack-of-familiarities with Rust (I do need to continue reading the Rust programming language book), Polars (I'm better with Python-Polars actually), Plotly.rs and also Evcxr. Another possibility could be that Plotly.rs mainly had ndarray support, and Polars was not mentioned explicitly in Plotly.rs so my guess was that these two might not flow very well together. Also, Polars itself was constantly evolving and growing as well.\n",
    "\n",
    "So I've decided to leave things as how it would be for now, before I delayed this post any further. If I happened to figure out how to do this in the future, then I'll come back to update this last part of the project. While I was tackling this little issue mentioned above, somehow I've managed to deconstruct Polars dataframe in Rust in Evcxr. So I'll show a little bit about it below. One slightly good news that came out from all of this, was that I've managed to import the other column as y-axis variables, which contained numbers, without problems. I've also figured out the Rust codes to convert Series/ChunkedArray to vectors in Rust IDEs (e.g. VS Code, and quite a few others). So I did learn a few things while completing this post, and hoped I could expand further on this later.\n",
    "\n",
    "**Note: I've published all Rust codes as print-only in Quarto markdown file, since it's not possible to run them in RStudio IDE (Rust was not supported). So all Rust codes were originally run on Jupyter Lab in MacOS, with code outputs being captured as screenshots, which were shown as photos in this post. Here's the [link](https://github.com/jhylin/Rust_projects/blob/main/Rust_evcxr_polars_plotly_final.ipynb) to the .ipynb file in the GitHub repository for this portfolio website (or alternatively, you could access it from the GitHub icon link at the top of the web page), in case anyone wanted to see the full .ipynb version.**\n",
    "\n",
    "\n",
    "##### **Import dependencies**\n",
    "\n",
    "These dependencies were known as crates in the world of Rust. I'd also like to think of them as libraries or packages we would install or import in Python and R. So this step was necessary before I even started anything decent in Rust. Similar things would also apply to Rust IDEs as well since I've played a little bit in VS Code previously."
   ]
  },
  {
   "cell_type": "code",
   "execution_count": 2,
   "metadata": {},
   "outputs": [],
   "source": [
    "// Set up required dependencies\n",
    ":dep ndarray = \"0.15.6\""
   ]
  },
  {
   "cell_type": "code",
   "execution_count": 3,
   "metadata": {},
   "outputs": [],
   "source": [
    ":dep plotly = { version = \">=0.8.0\", features = [\"plotly_ndarray\"]}"
   ]
  },
  {
   "cell_type": "code",
   "execution_count": 4,
   "metadata": {},
   "outputs": [],
   "source": [
    "// May take a few minutes to load polars crate (might depend on your machine specs)\n",
    ":dep polars = { version = \">=0.26.0\", features = [\"lazy\", \"csv-file\", \"strings\", \"dtype-duration\", \"dtype-categorical\", \"concat_str\", \"rank\", \"lazy_regex\", \"ndarray\"]}"
   ]
  },
  {
   "cell_type": "code",
   "execution_count": 5,
   "metadata": {},
   "outputs": [],
   "source": [
    ":dep itertools = {version = \"0.9.0\"}"
   ]
  },
  {
   "cell_type": "markdown",
   "metadata": {},
   "source": [
    "##### **Import external crates**"
   ]
  },
  {
   "cell_type": "code",
   "execution_count": 6,
   "metadata": {},
   "outputs": [],
   "source": [
    "// Import external crates needed\n",
    "extern crate ndarray;\n",
    "extern crate plotly;\n",
    "extern crate polars;"
   ]
  },
  {
   "cell_type": "markdown",
   "metadata": {},
   "source": [
    "##### **Specify imports or modules required**"
   ]
  },
  {
   "cell_type": "code",
   "execution_count": 7,
   "metadata": {},
   "outputs": [],
   "source": [
    "use ndarray::prelude::*;\n",
    "use polars::prelude::*;\n",
    "use plotly::common::{\n",
    "    ColorScale, ColorScalePalette, DashType, Fill, Font, Line, LineShape, Marker, Mode, Title,\n",
    "};\n",
    "use plotly::layout::{Axis, BarMode, Layout, Legend, TicksDirection};\n",
    "use plotly::{Plot, Scatter, Bar};\n",
    "use itertools::Itertools;"
   ]
  },
  {
   "cell_type": "markdown",
   "metadata": {},
   "source": [
    "##### **Reading csv file**\n",
    "\n",
    "Here, I've imported the .csv file saved from part 2 of the project."
   ]
  },
  {
   "cell_type": "code",
   "execution_count": 8,
   "metadata": {},
   "outputs": [],
   "source": [
    "// Reading .csv file\n",
    "let df = CsvReader::from_path(\"ace_para_count.csv\").unwrap().finish().unwrap();"
   ]
  },
  {
   "cell_type": "code",
   "execution_count": 9,
   "metadata": {},
   "outputs": [
    {
     "data": {
      "text/plain": [
       "shape: (6, 2)\n",
       "┌──────────────┬───────┐\n",
       "│ Colour       ┆ count │\n",
       "│ ---          ┆ ---   │\n",
       "│ str          ┆ i64   │\n",
       "╞══════════════╪═══════╡\n",
       "│ RED          ┆ 1     │\n",
       "│ ORANGE;BROWN ┆ 1     │\n",
       "│ YELLOW;WHITE ┆ 1     │\n",
       "│ ORANGE       ┆ 1     │\n",
       "│ WHITE        ┆ 7     │\n",
       "│ BLUE         ┆ 2     │\n",
       "└──────────────┴───────┘"
      ]
     },
     "execution_count": 9,
     "metadata": {},
     "output_type": "execute_result"
    }
   ],
   "source": [
    "df"
   ]
  },
  {
   "cell_type": "markdown",
   "metadata": {},
   "source": [
    "##### **Converting columns into ndarrays**\n",
    "\n",
    "I've tested plotting in Plotly.rs after a few trials and errors at the beginning, but luckily I've spotted the ndarray support from the [Plotly.rs book](https://igiagkiozis.github.io/plotly/content/plotly_rs.html) soon enough to figure out that I could convert the \"count\" column into a ndarray first, which was shown in the code below."
   ]
  },
  {
   "cell_type": "code",
   "execution_count": 10,
   "metadata": {},
   "outputs": [
    {
     "name": "stdout",
     "output_type": "stream",
     "text": [
      "[[NaN, 1.0],\n",
      " [NaN, 1.0],\n",
      " [NaN, 1.0],\n",
      " [NaN, 1.0],\n",
      " [NaN, 7.0],\n",
      " [NaN, 2.0]], shape=[6, 2], strides=[1, 6], layout=Ff (0xa), const ndim=2\n"
     ]
    }
   ],
   "source": [
    "// Switch Polars dataframe into 2D array\n",
    "// Ensure \"ndarray\" was added as one of the features for polars under dependencies\n",
    "\n",
    "/*Example from Polars documentation:\n",
    "let df = DataFrame::new(vec![a, b]).unwrap();\n",
    "let ndarray = df.to_ndarray::<Float64Type>().unwrap();\n",
    "println!(\"{:?}\", ndarray);\n",
    "*/\n",
    "\n",
    "//Note: ndarray for numbers only, not strings, so only \"count\" column was converted\n",
    "let ndarray = df.to_ndarray::<Float64Type>().unwrap();\n",
    "println!(\"{:?}\", ndarray);"
   ]
  },
  {
   "cell_type": "markdown",
   "metadata": {},
   "source": [
    "##### **Deconstructing Polars dataframe in Rust**\n",
    "\n",
    "Because \"to_ndarray\" was only for numerics and not strings, I ran into a problem trying to figure out how to best import this other \"Colour\" column into Plotly.rs. This led to my little convoluted journey to work with Polars dataframe in Rust, trying to see if I could convert the \"Colour\" column into a vector (which might not be the best way to do it, but as part of my Rust learning, I went for it anyway). I've subsequently tried plotting the \"count\" column in ndarray as a vector with success, based on the reference from Plotly.rs book that variables for x or y-axis could be placed into a vector by using a vector macro. Eventually, I didn't quite achieve my goal but I've managed to break down or convert the Polars dataframe into different formats."
   ]
  },
  {
   "cell_type": "code",
   "execution_count": 11,
   "metadata": {},
   "outputs": [],
   "source": [
    "// Select specific column or series by position\n",
    "let Colours = df[0].clone();\n",
    "\n",
    "//Alternative way to select specific column or series by name\n",
    "//let u = df.select_series(&[\"Colour\"]);"
   ]
  },
  {
   "cell_type": "code",
   "execution_count": 12,
   "metadata": {},
   "outputs": [
    {
     "data": {
      "text/plain": [
       "shape: (6,)\n",
       "Series: 'Colour' [str]\n",
       "[\n",
       "\t\"RED\"\n",
       "\t\"ORANGE;BROWN\"\n",
       "\t\"YELLOW;WHITE\"\n",
       "\t\"ORANGE\"\n",
       "\t\"WHITE\"\n",
       "\t\"BLUE\"\n",
       "]"
      ]
     },
     "execution_count": 12,
     "metadata": {},
     "output_type": "execute_result"
    }
   ],
   "source": [
    "Colours"
   ]
  },
  {
   "cell_type": "markdown",
   "metadata": {},
   "source": [
    "There was a mention of storing series (column) in a vec (as series vector, not vector for strings) in Polars' documentation, which I've tried to plot in Plotly.rs, but it unfortunately failed to work. One of my guesses could be due to the data type used for vector, as Rust was a very type-specific programming language, which also brought its well-known memory safety and other benefits in the long run. My immediate thought was that it probably needed to be a vector for strings, not series, which might make it work. Then I was searching on StackOverflow for similar questions and answers, then I found something related to what I wanted to do from Polars documentations as shown below."
   ]
  },
  {
   "cell_type": "code",
   "execution_count": null,
   "metadata": {},
   "outputs": [],
   "source": [
    "// Adapted from: https://docs.rs/polars/latest/polars/docs/eager/index.html#series \n",
    "// Extracting data: \n",
    "// To be able to extract data out of Series, \n",
    "// either by iterating over them or converting them to other datatypes like a Vec<T>, \n",
    "// we first need to downcast them to a ChunkedArray<T>. \n",
    "// This is needed because we don't know the data type that is held by the Series.\n",
    "\n",
    "/*use polars::prelude::*; \n",
    "  use polars::df;\n",
    "\n",
    "  fn extract_data() -> PolarsResult<()> { \n",
    "  let df = df! [ \"a\" => [None, Some(1.0f32), Some(2.0)], \"str\" => [\"foo\", \"bar\", \"ham\"]]?;\n",
    "\n",
    "// first extract ChunkedArray to get the inner type.\n",
    "\n",
    "  let ca = df.column(\"a\")?.f32()?;\n",
    "\n",
    "// Then convert to vec\n",
    "\n",
    "  let _to_vec: Vec<Option<f32>> = Vec::from(ca);\n",
    "\n",
    "// We can also do this with iterators\n",
    "\n",
    "  let ca = df.column(\"str\")?.utf8()?; \n",
    "  let _to_vec: Vec<Option<&str>> = ca.into_iter().collect(); \n",
    "  let _to_vec_no_options: Vec<&str> = ca.into_no_null_iter().collect();\n",
    "\n",
    "  Ok(())\n",
    "\n",
    "}*/"
   ]
  },
  {
   "cell_type": "markdown",
   "metadata": {},
   "source": [
    "Initially, I trialled the iterator function first."
   ]
  },
  {
   "cell_type": "code",
   "execution_count": 13,
   "metadata": {},
   "outputs": [
    {
     "name": "stdout",
     "output_type": "stream",
     "text": [
      "\"RED\"\n",
      "\"ORANGE;BROWN\"\n",
      "\"YELLOW;WHITE\"\n",
      "\"ORANGE\"\n",
      "\"WHITE\"\n",
      "\"BLUE\"\n"
     ]
    }
   ],
   "source": [
    "// Print out items in column by applying an iterator to it\n",
    "println!(\"{}\", &Colours.iter().format(\"\\n\"));"
   ]
  },
  {
   "cell_type": "markdown",
   "metadata": {},
   "source": [
    "Then, it took me quite a long time to just downcast Series into ChunkedArray, but somehow I've managed to figure out the code myself below. One of the likely reasons was due to my choice of using Evcxr, which required Rust codes in slightly different formats than the ones in Rust IDEs (although almost the same)."
   ]
  },
  {
   "cell_type": "code",
   "execution_count": 14,
   "metadata": {},
   "outputs": [
    {
     "name": "stdout",
     "output_type": "stream",
     "text": [
      "shape: (6,)\n",
      "ChunkedArray: 'Colour' [str]\n",
      "[\n",
      "\t\"RED\"\n",
      "\t\"ORANGE;BROWN\"\n",
      "\t\"YELLOW;WHITE\"\n",
      "\t\"ORANGE\"\n",
      "\t\"WHITE\"\n",
      "\t\"BLUE\"\n",
      "]\n"
     ]
    }
   ],
   "source": [
    "// Somehow worked out how to convert series to chunkedarray by accident!\n",
    "println!(\"{:?}\", Colours.utf8().unwrap());"
   ]
  },
  {
   "cell_type": "markdown",
   "metadata": {},
   "source": [
    "Then I moved onto trying to figure out how to convert or place a ChunkedArray into a vector, with the closest answer shown below. However, bear in mind that these Rust codes were for Rust IDEs, and not for Evcxr, so this added slightly more complexities to what I was trying to do (perhaps I should just stick with Rust IDEs in the future...)."
   ]
  },
  {
   "cell_type": "code",
   "execution_count": null,
   "metadata": {},
   "outputs": [],
   "source": [
    "//Adpated from StackOverflow - How to get a Vec from polars Series or ChunkedArray?\n",
    "//You can collect the values into a Vec.\n",
    "\n",
    "/*use polars::prelude::*;\n",
    "\n",
    "fn main() -> Result<()> { let s = Series::new(\"a\", 0..10i32);\n",
    "\n",
    "    let as_vec: Vec<Option<i32>> = s.i32()?.into_iter().collect();\n",
    "\n",
    "    //if we are certain we don't have missing values\n",
    "    let as_vec: Vec<i32> = s.i32()?.into_no_null_iter().collect();\n",
    "    Ok(())\n",
    "\n",
    "}*/"
   ]
  },
  {
   "cell_type": "markdown",
   "metadata": {},
   "source": [
    "I also found another way to iterate the ChunkedArray."
   ]
  },
  {
   "cell_type": "code",
   "execution_count": null,
   "metadata": {},
   "outputs": [],
   "source": [
    "//fn iter_forward(ca: &Float32Chunked) { ca.into_iter().for_each(|opt_v| println!(\"{:?}\", opt_v)) } "
   ]
  },
  {
   "cell_type": "markdown",
   "metadata": {},
   "source": [
    "I then tested another iterator method, and came up with another line of code as shown below, which listed the colours in the \"Colour\" column."
   ]
  },
  {
   "cell_type": "code",
   "execution_count": 15,
   "metadata": {},
   "outputs": [
    {
     "name": "stdout",
     "output_type": "stream",
     "text": [
      "Some(\"RED\")\n",
      "Some(\"ORANGE;BROWN\")\n",
      "Some(\"YELLOW;WHITE\")\n",
      "Some(\"ORANGE\")\n",
      "Some(\"WHITE\")\n",
      "Some(\"BLUE\")\n"
     ]
    }
   ],
   "source": [
    "Colours.utf8().unwrap().into_iter().for_each(|array|println!(\"{:?}\", array));"
   ]
  },
  {
   "cell_type": "markdown",
   "metadata": {},
   "source": [
    "I also found out, randomly, how to slice strings for Series in Polars. By changing the number of letters to slice through in Some(), the strings or words would vary length accordingly. Here, I've used \"15\" so it covered all the colours (note: the longest would be 12 characters for combination colours)."
   ]
  },
  {
   "cell_type": "code",
   "execution_count": 16,
   "metadata": {},
   "outputs": [
    {
     "data": {
      "text/plain": [
       "Ok(shape: (6,)\n",
       "ChunkedArray: 'Colour' [str]\n",
       "[\n",
       "\t\"RED\"\n",
       "\t\"ORANGE;BROWN\"\n",
       "\t\"YELLOW;WHITE\"\n",
       "\t\"ORANGE\"\n",
       "\t\"WHITE\"\n",
       "\t\"BLUE\"\n",
       "])"
      ]
     },
     "execution_count": 16,
     "metadata": {},
     "output_type": "execute_result"
    }
   ],
   "source": [
    "// Another method to use if needing to slice strings\n",
    "let x = Colours.utf8().unwrap().str_slice(0, Some(15));\n",
    "x"
   ]
  },
  {
   "cell_type": "markdown",
   "metadata": {},
   "source": [
    "Lastly, before I got too carried away, I just wanted to show the method from Polars documentations that this was the Polars' way to select a specific column from Polars dataframe."
   ]
  },
  {
   "cell_type": "code",
   "execution_count": 17,
   "metadata": {},
   "outputs": [
    {
     "data": {
      "text/plain": [
       "shape: (6, 1)\n",
       "┌──────────────┐\n",
       "│ Colour       │\n",
       "│ ---          │\n",
       "│ str          │\n",
       "╞══════════════╡\n",
       "│ RED          │\n",
       "│ ORANGE;BROWN │\n",
       "│ YELLOW;WHITE │\n",
       "│ ORANGE       │\n",
       "│ WHITE        │\n",
       "│ BLUE         │\n",
       "└──────────────┘"
      ]
     },
     "execution_count": 17,
     "metadata": {},
     "output_type": "execute_result"
    }
   ],
   "source": [
    "let ca = df.clone().lazy().select([cols([\"Colour\"])]).collect()?;\n",
    "ca"
   ]
  },
  {
   "cell_type": "markdown",
   "metadata": {},
   "source": [
    "##### **Plotting Polars dataframe in Plotly.rs**\n",
    "\n",
    "For the x-axis, eventually, I reverted for manual input due to the issue mentioned in the background section. So the colours from the \"Colour\" column were stored in a vector set up manually, rather than coming directly from the dataframe. While searching for answers, I've also learnt several other tricks, although not really solving the problem, they might still be useful in the future. For the y-axis, the ndarray for the \"count\" column was converted into a vector first before being fed into the trace (graph module), and thankfully the plot worked nicely."
   ]
  },
  {
   "cell_type": "code",
   "execution_count": 18,
   "metadata": {},
   "outputs": [
    {
     "data": {
      "application/vnd.plotly.v1+json": {
       "config": {},
       "data": [
        {
         "type": "scatter",
         "x": [
          "RED",
          "ORANGE;BROWN",
          "YELLOW;WHITE",
          "ORANGE",
          "WHITE",
          "BLUE"
         ],
         "y": [
          1,
          1,
          1,
          1,
          7,
          2
         ]
        }
       ],
       "layout": {
        "autosize": true,
        "title": {
         "text": "Frequency of colours in acetaminophen (paracetamol) oral dosage forms"
        },
        "xaxis": {
         "autorange": true,
         "range": [
          -0.3193612774451098,
          5.319361277445109
         ],
         "title": {
          "text": "Colours"
         },
         "type": "category"
        },
        "yaxis": {
         "autorange": true,
         "range": [
          0.5775401069518717,
          7.422459893048129
         ],
         "title": {
          "text": "Count"
         },
         "type": "linear"
        }
       }
      },
      "image/png": "[encoded data removed]",
      "text/plain": [
       "\"EVCXR_BEGIN_CONTENT application/vnd.plotly.v1+json\\n{\\\"data\\\":[{\\\"type\\\":\\\"scatter\\\",\\\"x\\\":[\\\"RED\\\",\\\"ORANGE;BROWN\\\",\\\"YELLOW;WHITE\\\",\\\"ORANGE\\\",\\\"WHITE\\\",\\\"BLUE\\\"],\\\"y\\\":[1.0,1.0,1.0,1.0,7.0,2.0]}],\\\"layout\\\":{\\\"title\\\":{\\\"text\\\":\\\"Frequency of colours in acetaminophen (paracetamol) oral dosage forms\\\"},\\\"height\\\":500,\\\"xaxis\\\":{\\\"title\\\":{\\\"text\\\":\\\"Colours\\\"}},\\\"yaxis\\\":{\\\"title\\\":{\\\"text\\\":\\\"Count\\\"}}},\\\"config\\\":{}}\\nEVCXR_END_CONTENT\""
      ]
     },
     "execution_count": 18,
     "metadata": {},
     "output_type": "execute_result"
    }
   ],
   "source": [
    "// MANUAL method:\n",
    "// Use vec! macro to create new vectors to hold x variables (words as strings)\n",
    "// Manually input the colour names (as ndarray is only for numbers)\n",
    "let x = vec![\"RED\", \"ORANGE;BROWN\", \"YELLOW;WHITE\", \"ORANGE\", \"WHITE\", \"BLUE\"];\n",
    "\n",
    "// Plot using ndarray, which is supported by Plotly.rs \n",
    "// Polars likely not supported yet\n",
    "// Convert ndarray (holding counts as y variables) into vector \n",
    "let y = ndarray.column(1).to_vec();\n",
    "\n",
    "// Use trace as a graph module,\n",
    "// choose type of plots needed for x & y variables called\n",
    "// Graph options e.g. Scatter, Line or Bar\n",
    "let trace = Scatter::new(x, y);\n",
    "\n",
    "// Set plot variable as mutable and initiate a plot\n",
    "let mut plot = Plot::new();\n",
    "// Add trace (graph) into the plot variable\n",
    "plot.add_trace(trace);\n",
    "\n",
    "// Specify the specs for plot\n",
    "let layout = Layout::new()\n",
    "    // Choose height of graph\n",
    "    .height(500)\n",
    "    // Name x-axis\n",
    "    .x_axis(Axis::new().title(Title::new(\"Colours\")))\n",
    "    // Name y-axis\n",
    "    .y_axis(Axis::new().title(Title::new(\"Count\")))\n",
    "    // Add title of graph\n",
    "    .title(Title::new(\"Frequency of colours in acetaminophen (paracetamol) oral dosage forms\"));\n",
    "\n",
    "// Set the layout of the plot\n",
    "plot.set_layout(layout);\n",
    "\n",
    "// Display the plot in Jupyter Lab format \n",
    "// For Jupyter Notebook, use: plot.notebook_display();\n",
    "plot.lab_display();\n",
    "format!(\"EVCXR_BEGIN_CONTENT application/vnd.plotly.v1+json\\n{}\\nEVCXR_END_CONTENT\", plot.to_json())"
   ]
  },
  {
   "cell_type": "markdown",
   "metadata": {},
   "source": [
    "##### **Conclusion**\n",
    "\n",
    "This last part was the hardest for me to execute out of all 3 parts (it likely took me a good whole week to figure out deconstructing Polars dataframe and trying to work with vectors), as Rust was completely new to me. At one point I thought about jumping back to Python, but I persisted and although I didn't quite solve the string importation issue, I was somehow happy that I was at least able to see how this programming language could be applied in Polars dataframe library. I also got a taste of using Rust in data visualisations. All I wanted to show was that there were a variety of data tools to use, and knowing your tools of trade would be the most critical when working on different data projects as certain tools would only work the best for certain tasks and scenarios. This warm-up lesson in Rust was quite interesting and I might continue either in VS Code or Evcxr depending on my next topic of interest.\n",
    "\n",
    "\n",
    "##### **References**\n",
    "\n",
    "[Rust programming language book](https://doc.rust-lang.org/book/title-page.html): https://doc.rust-lang.org/book/title-page.html\n",
    "\n",
    "[Polars crate documentations](https://docs.rs/polars/latest/polars/): https://docs.rs/polars/latest/polars/\n",
    "\n",
    "[Plotly.rs GitHub repository](https://github.com/igiagkiozis/plotly): https://github.com/igiagkiozis/plotly (link to the Plotly.rs book can be found in \"Converting columns into ndarrays\" section)\n",
    "\n",
    "[Evcxr GitHub repository](https://github.com/google/evcxr): https://github.com/google/evcxr"
   ]
  },
  {
   "cell_type": "code",
   "execution_count": null,
   "metadata": {},
   "outputs": [],
   "source": []
  }
 ],
 "metadata": {
  "kernelspec": {
   "display_name": "Rust",
   "language": "rust",
   "name": "rust"
  },
  "language_info": {
   "codemirror_mode": "rust",
   "file_extension": ".rs",
   "mimetype": "text/rust",
   "name": "Rust",
   "pygment_lexer": "rust",
   "version": ""
  }
 },
 "nbformat": 4,
 "nbformat_minor": 4
}
